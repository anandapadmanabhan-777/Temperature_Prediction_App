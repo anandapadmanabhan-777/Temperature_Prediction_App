{
 "cells": [
  {
   "cell_type": "markdown",
   "id": "4c6cab63",
   "metadata": {},
   "source": [
    "# Time-Series Forecasting using CNN-RNN Hybrid Model "
   ]
  },
  {
   "cell_type": "markdown",
   "id": "65ea2b5d",
   "metadata": {},
   "source": [
    "# Weather Trends Forecaster: A CNN-RNN Hybrid Model"
   ]
  },
  {
   "cell_type": "markdown",
   "id": "4123aa83",
   "metadata": {},
   "source": [
    "## 1. Importing Libraries"
   ]
  },
  {
   "cell_type": "code",
   "execution_count": 1,
   "id": "2cdab738",
   "metadata": {},
   "outputs": [],
   "source": [
    "import numpy as np\n",
    "import pandas as pd\n",
    "import matplotlib.pyplot as plt\n",
    "import seaborn as sns\n",
    "from sklearn.preprocessing import StandardScaler\n",
    "from sklearn.model_selection import train_test_split\n",
    "from sklearn.metrics import mean_squared_error, mean_absolute_error\n",
    "from tensorflow.keras.models import Sequential\n",
    "from tensorflow.keras.layers import Conv1D, MaxPooling1D, LSTM, Dense, Dropout, BatchNormalization\n",
    "from tensorflow.keras.callbacks import EarlyStopping"
   ]
  },
  {
   "cell_type": "code",
   "execution_count": 2,
   "id": "4068f48d",
   "metadata": {},
   "outputs": [],
   "source": [
    "# Define the create_sequences function\n",
    "def create_sequences(features, target, window_size=7):\n",
    "    \"\"\"\n",
    "    Transforms the data into sequences for time-series forecasting.\n",
    "\n",
    "    Parameters:\n",
    "    - features (pd.DataFrame): Input feature data.\n",
    "    - target (pd.Series): Target variable.\n",
    "    - window_size (int): Number of time steps in each sequence.\n",
    "\n",
    "    Returns:\n",
    "    - np.array: Array of input sequences.\n",
    "    - np.array: Array of corresponding target values.\n",
    "    \"\"\"\n",
    "    x = []\n",
    "    y = []\n",
    "    for i in range(len(features) - window_size):\n",
    "        x.append(features.iloc[i:i + window_size].values)  # Create sequences of features\n",
    "        y.append(target.iloc[i + window_size])  # Target value for the sequence\n",
    "    return np.array(x), np.array(y)"
   ]
  },
  {
   "cell_type": "markdown",
   "id": "4a7cfd2c",
   "metadata": {},
   "source": [
    "## 2. Loading the Dataset"
   ]
  },
  {
   "cell_type": "code",
   "execution_count": 3,
   "id": "31980f72",
   "metadata": {},
   "outputs": [],
   "source": [
    "df = pd.read_csv(\"weather_data_new.csv\")"
   ]
  },
  {
   "cell_type": "code",
   "execution_count": 4,
   "id": "2e5cabce",
   "metadata": {},
   "outputs": [
    {
     "data": {
      "text/html": [
       "<div>\n",
       "<style scoped>\n",
       "    .dataframe tbody tr th:only-of-type {\n",
       "        vertical-align: middle;\n",
       "    }\n",
       "\n",
       "    .dataframe tbody tr th {\n",
       "        vertical-align: top;\n",
       "    }\n",
       "\n",
       "    .dataframe thead th {\n",
       "        text-align: right;\n",
       "    }\n",
       "</style>\n",
       "<table border=\"1\" class=\"dataframe\">\n",
       "  <thead>\n",
       "    <tr style=\"text-align: right;\">\n",
       "      <th></th>\n",
       "      <th>Date/Time</th>\n",
       "      <th>Temp_C</th>\n",
       "      <th>Dew Point Temp_C</th>\n",
       "      <th>Rel Hum_%</th>\n",
       "      <th>Wind Speed_km/h</th>\n",
       "      <th>Visibility_km</th>\n",
       "      <th>Press_kPa</th>\n",
       "      <th>Weather</th>\n",
       "    </tr>\n",
       "  </thead>\n",
       "  <tbody>\n",
       "    <tr>\n",
       "      <th>0</th>\n",
       "      <td>1/1/2012 0:00</td>\n",
       "      <td>-1.8</td>\n",
       "      <td>-3.9</td>\n",
       "      <td>86</td>\n",
       "      <td>4</td>\n",
       "      <td>8.0</td>\n",
       "      <td>101.24</td>\n",
       "      <td>Fog</td>\n",
       "    </tr>\n",
       "    <tr>\n",
       "      <th>1</th>\n",
       "      <td>1/1/2012 1:00</td>\n",
       "      <td>-1.8</td>\n",
       "      <td>-3.7</td>\n",
       "      <td>87</td>\n",
       "      <td>4</td>\n",
       "      <td>8.0</td>\n",
       "      <td>101.24</td>\n",
       "      <td>Fog</td>\n",
       "    </tr>\n",
       "    <tr>\n",
       "      <th>2</th>\n",
       "      <td>1/1/2012 2:00</td>\n",
       "      <td>-1.8</td>\n",
       "      <td>-3.4</td>\n",
       "      <td>89</td>\n",
       "      <td>7</td>\n",
       "      <td>4.0</td>\n",
       "      <td>101.26</td>\n",
       "      <td>Freezing Drizzle,Fog</td>\n",
       "    </tr>\n",
       "    <tr>\n",
       "      <th>3</th>\n",
       "      <td>1/1/2012 3:00</td>\n",
       "      <td>-1.5</td>\n",
       "      <td>-3.2</td>\n",
       "      <td>88</td>\n",
       "      <td>6</td>\n",
       "      <td>4.0</td>\n",
       "      <td>101.27</td>\n",
       "      <td>Freezing Drizzle,Fog</td>\n",
       "    </tr>\n",
       "    <tr>\n",
       "      <th>4</th>\n",
       "      <td>1/1/2012 4:00</td>\n",
       "      <td>-1.5</td>\n",
       "      <td>-3.3</td>\n",
       "      <td>88</td>\n",
       "      <td>7</td>\n",
       "      <td>4.8</td>\n",
       "      <td>101.23</td>\n",
       "      <td>Fog</td>\n",
       "    </tr>\n",
       "  </tbody>\n",
       "</table>\n",
       "</div>"
      ],
      "text/plain": [
       "       Date/Time  Temp_C  Dew Point Temp_C  Rel Hum_%  Wind Speed_km/h  \\\n",
       "0  1/1/2012 0:00    -1.8              -3.9         86                4   \n",
       "1  1/1/2012 1:00    -1.8              -3.7         87                4   \n",
       "2  1/1/2012 2:00    -1.8              -3.4         89                7   \n",
       "3  1/1/2012 3:00    -1.5              -3.2         88                6   \n",
       "4  1/1/2012 4:00    -1.5              -3.3         88                7   \n",
       "\n",
       "   Visibility_km  Press_kPa               Weather  \n",
       "0            8.0     101.24                   Fog  \n",
       "1            8.0     101.24                   Fog  \n",
       "2            4.0     101.26  Freezing Drizzle,Fog  \n",
       "3            4.0     101.27  Freezing Drizzle,Fog  \n",
       "4            4.8     101.23                   Fog  "
      ]
     },
     "execution_count": 4,
     "metadata": {},
     "output_type": "execute_result"
    }
   ],
   "source": [
    "df.head()"
   ]
  },
  {
   "cell_type": "markdown",
   "id": "5be1064d",
   "metadata": {},
   "source": [
    "## 3. Preprocessing the Dataset"
   ]
  },
  {
   "cell_type": "code",
   "execution_count": 5,
   "id": "20c91250",
   "metadata": {},
   "outputs": [],
   "source": [
    "df['Date/Time'] = pd.to_datetime(df['Date/Time'])\n",
    "df.set_index('Date/Time', inplace=True)\n"
   ]
  },
  {
   "cell_type": "code",
   "execution_count": 6,
   "id": "c5e3a3f6",
   "metadata": {
    "scrolled": true
   },
   "outputs": [
    {
     "data": {
      "text/html": [
       "<div>\n",
       "<style scoped>\n",
       "    .dataframe tbody tr th:only-of-type {\n",
       "        vertical-align: middle;\n",
       "    }\n",
       "\n",
       "    .dataframe tbody tr th {\n",
       "        vertical-align: top;\n",
       "    }\n",
       "\n",
       "    .dataframe thead th {\n",
       "        text-align: right;\n",
       "    }\n",
       "</style>\n",
       "<table border=\"1\" class=\"dataframe\">\n",
       "  <thead>\n",
       "    <tr style=\"text-align: right;\">\n",
       "      <th></th>\n",
       "      <th>Temp_C</th>\n",
       "      <th>Dew Point Temp_C</th>\n",
       "      <th>Rel Hum_%</th>\n",
       "      <th>Wind Speed_km/h</th>\n",
       "      <th>Visibility_km</th>\n",
       "      <th>Press_kPa</th>\n",
       "      <th>Weather</th>\n",
       "    </tr>\n",
       "    <tr>\n",
       "      <th>Date/Time</th>\n",
       "      <th></th>\n",
       "      <th></th>\n",
       "      <th></th>\n",
       "      <th></th>\n",
       "      <th></th>\n",
       "      <th></th>\n",
       "      <th></th>\n",
       "    </tr>\n",
       "  </thead>\n",
       "  <tbody>\n",
       "    <tr>\n",
       "      <th>2012-01-01 00:00:00</th>\n",
       "      <td>-1.8</td>\n",
       "      <td>-3.9</td>\n",
       "      <td>86</td>\n",
       "      <td>4</td>\n",
       "      <td>8.0</td>\n",
       "      <td>101.24</td>\n",
       "      <td>Fog</td>\n",
       "    </tr>\n",
       "    <tr>\n",
       "      <th>2012-01-01 01:00:00</th>\n",
       "      <td>-1.8</td>\n",
       "      <td>-3.7</td>\n",
       "      <td>87</td>\n",
       "      <td>4</td>\n",
       "      <td>8.0</td>\n",
       "      <td>101.24</td>\n",
       "      <td>Fog</td>\n",
       "    </tr>\n",
       "    <tr>\n",
       "      <th>2012-01-01 02:00:00</th>\n",
       "      <td>-1.8</td>\n",
       "      <td>-3.4</td>\n",
       "      <td>89</td>\n",
       "      <td>7</td>\n",
       "      <td>4.0</td>\n",
       "      <td>101.26</td>\n",
       "      <td>Freezing Drizzle,Fog</td>\n",
       "    </tr>\n",
       "    <tr>\n",
       "      <th>2012-01-01 03:00:00</th>\n",
       "      <td>-1.5</td>\n",
       "      <td>-3.2</td>\n",
       "      <td>88</td>\n",
       "      <td>6</td>\n",
       "      <td>4.0</td>\n",
       "      <td>101.27</td>\n",
       "      <td>Freezing Drizzle,Fog</td>\n",
       "    </tr>\n",
       "    <tr>\n",
       "      <th>2012-01-01 04:00:00</th>\n",
       "      <td>-1.5</td>\n",
       "      <td>-3.3</td>\n",
       "      <td>88</td>\n",
       "      <td>7</td>\n",
       "      <td>4.8</td>\n",
       "      <td>101.23</td>\n",
       "      <td>Fog</td>\n",
       "    </tr>\n",
       "  </tbody>\n",
       "</table>\n",
       "</div>"
      ],
      "text/plain": [
       "                     Temp_C  Dew Point Temp_C  Rel Hum_%  Wind Speed_km/h  \\\n",
       "Date/Time                                                                   \n",
       "2012-01-01 00:00:00    -1.8              -3.9         86                4   \n",
       "2012-01-01 01:00:00    -1.8              -3.7         87                4   \n",
       "2012-01-01 02:00:00    -1.8              -3.4         89                7   \n",
       "2012-01-01 03:00:00    -1.5              -3.2         88                6   \n",
       "2012-01-01 04:00:00    -1.5              -3.3         88                7   \n",
       "\n",
       "                     Visibility_km  Press_kPa               Weather  \n",
       "Date/Time                                                            \n",
       "2012-01-01 00:00:00            8.0     101.24                   Fog  \n",
       "2012-01-01 01:00:00            8.0     101.24                   Fog  \n",
       "2012-01-01 02:00:00            4.0     101.26  Freezing Drizzle,Fog  \n",
       "2012-01-01 03:00:00            4.0     101.27  Freezing Drizzle,Fog  \n",
       "2012-01-01 04:00:00            4.8     101.23                   Fog  "
      ]
     },
     "execution_count": 6,
     "metadata": {},
     "output_type": "execute_result"
    }
   ],
   "source": [
    "df.head()"
   ]
  },
  {
   "cell_type": "code",
   "execution_count": 7,
   "id": "3c0f8eeb",
   "metadata": {
    "scrolled": true
   },
   "outputs": [
    {
     "data": {
      "text/plain": [
       "(8784, 7)"
      ]
     },
     "execution_count": 7,
     "metadata": {},
     "output_type": "execute_result"
    }
   ],
   "source": [
    "df.shape"
   ]
  },
  {
   "cell_type": "code",
   "execution_count": 8,
   "id": "9c875a06",
   "metadata": {},
   "outputs": [
    {
     "data": {
      "text/plain": [
       "Temp_C              0\n",
       "Dew Point Temp_C    0\n",
       "Rel Hum_%           0\n",
       "Wind Speed_km/h     0\n",
       "Visibility_km       0\n",
       "Press_kPa           0\n",
       "Weather             0\n",
       "dtype: int64"
      ]
     },
     "execution_count": 8,
     "metadata": {},
     "output_type": "execute_result"
    }
   ],
   "source": [
    "df.isnull().sum()"
   ]
  },
  {
   "cell_type": "code",
   "execution_count": 9,
   "id": "af65ffcb",
   "metadata": {},
   "outputs": [
    {
     "name": "stdout",
     "output_type": "stream",
     "text": [
      "<class 'pandas.core.frame.DataFrame'>\n",
      "DatetimeIndex: 8784 entries, 2012-01-01 00:00:00 to 2012-12-31 23:00:00\n",
      "Data columns (total 7 columns):\n",
      " #   Column            Non-Null Count  Dtype  \n",
      "---  ------            --------------  -----  \n",
      " 0   Temp_C            8784 non-null   float64\n",
      " 1   Dew Point Temp_C  8784 non-null   float64\n",
      " 2   Rel Hum_%         8784 non-null   int64  \n",
      " 3   Wind Speed_km/h   8784 non-null   int64  \n",
      " 4   Visibility_km     8784 non-null   float64\n",
      " 5   Press_kPa         8784 non-null   float64\n",
      " 6   Weather           8784 non-null   object \n",
      "dtypes: float64(4), int64(2), object(1)\n",
      "memory usage: 549.0+ KB\n"
     ]
    }
   ],
   "source": [
    " df.info()"
   ]
  },
  {
   "cell_type": "code",
   "execution_count": 10,
   "id": "e3edb931",
   "metadata": {},
   "outputs": [
    {
     "name": "stdout",
     "output_type": "stream",
     "text": [
      "['Fog' 'Freezing Drizzle,Fog' 'Mostly Cloudy' 'Cloudy' 'Rain'\n",
      " 'Rain Showers' 'Mainly Clear' 'Snow Showers' 'Snow' 'Clear'\n",
      " 'Freezing Rain,Fog' 'Freezing Rain' 'Freezing Drizzle' 'Rain,Snow'\n",
      " 'Moderate Snow' 'Freezing Drizzle,Snow' 'Freezing Rain,Snow Grains'\n",
      " 'Snow,Blowing Snow' 'Freezing Fog' 'Haze' 'Rain,Fog' 'Drizzle,Fog'\n",
      " 'Drizzle' 'Freezing Drizzle,Haze' 'Freezing Rain,Haze' 'Snow,Haze'\n",
      " 'Snow,Fog' 'Snow,Ice Pellets' 'Rain,Haze' 'Thunderstorms,Rain'\n",
      " 'Thunderstorms,Rain Showers' 'Thunderstorms,Heavy Rain Showers'\n",
      " 'Thunderstorms,Rain Showers,Fog' 'Thunderstorms' 'Thunderstorms,Rain,Fog'\n",
      " 'Thunderstorms,Moderate Rain Showers,Fog' 'Rain Showers,Fog'\n",
      " 'Rain Showers,Snow Showers' 'Snow Pellets' 'Rain,Snow,Fog'\n",
      " 'Moderate Rain,Fog' 'Freezing Rain,Ice Pellets,Fog'\n",
      " 'Drizzle,Ice Pellets,Fog' 'Drizzle,Snow' 'Rain,Ice Pellets'\n",
      " 'Drizzle,Snow,Fog' 'Rain,Snow Grains' 'Rain,Snow,Ice Pellets'\n",
      " 'Snow Showers,Fog' 'Moderate Snow,Blowing Snow']\n"
     ]
    }
   ],
   "source": [
    "unique_values = df['Weather'].unique()\n",
    "print(unique_values)"
   ]
  },
  {
   "cell_type": "markdown",
   "id": "d86119e6",
   "metadata": {},
   "source": [
    "### Dropping The Weather Column"
   ]
  },
  {
   "cell_type": "code",
   "execution_count": 11,
   "id": "6134228d",
   "metadata": {},
   "outputs": [],
   "source": [
    "df = df.drop(columns=['Weather'])"
   ]
  },
  {
   "cell_type": "code",
   "execution_count": 12,
   "id": "1c0a9658",
   "metadata": {},
   "outputs": [
    {
     "data": {
      "text/html": [
       "<div>\n",
       "<style scoped>\n",
       "    .dataframe tbody tr th:only-of-type {\n",
       "        vertical-align: middle;\n",
       "    }\n",
       "\n",
       "    .dataframe tbody tr th {\n",
       "        vertical-align: top;\n",
       "    }\n",
       "\n",
       "    .dataframe thead th {\n",
       "        text-align: right;\n",
       "    }\n",
       "</style>\n",
       "<table border=\"1\" class=\"dataframe\">\n",
       "  <thead>\n",
       "    <tr style=\"text-align: right;\">\n",
       "      <th></th>\n",
       "      <th>Temp_C</th>\n",
       "      <th>Dew Point Temp_C</th>\n",
       "      <th>Rel Hum_%</th>\n",
       "      <th>Wind Speed_km/h</th>\n",
       "      <th>Visibility_km</th>\n",
       "      <th>Press_kPa</th>\n",
       "    </tr>\n",
       "    <tr>\n",
       "      <th>Date/Time</th>\n",
       "      <th></th>\n",
       "      <th></th>\n",
       "      <th></th>\n",
       "      <th></th>\n",
       "      <th></th>\n",
       "      <th></th>\n",
       "    </tr>\n",
       "  </thead>\n",
       "  <tbody>\n",
       "    <tr>\n",
       "      <th>2012-01-01 00:00:00</th>\n",
       "      <td>-1.8</td>\n",
       "      <td>-3.9</td>\n",
       "      <td>86</td>\n",
       "      <td>4</td>\n",
       "      <td>8.0</td>\n",
       "      <td>101.24</td>\n",
       "    </tr>\n",
       "    <tr>\n",
       "      <th>2012-01-01 01:00:00</th>\n",
       "      <td>-1.8</td>\n",
       "      <td>-3.7</td>\n",
       "      <td>87</td>\n",
       "      <td>4</td>\n",
       "      <td>8.0</td>\n",
       "      <td>101.24</td>\n",
       "    </tr>\n",
       "    <tr>\n",
       "      <th>2012-01-01 02:00:00</th>\n",
       "      <td>-1.8</td>\n",
       "      <td>-3.4</td>\n",
       "      <td>89</td>\n",
       "      <td>7</td>\n",
       "      <td>4.0</td>\n",
       "      <td>101.26</td>\n",
       "    </tr>\n",
       "    <tr>\n",
       "      <th>2012-01-01 03:00:00</th>\n",
       "      <td>-1.5</td>\n",
       "      <td>-3.2</td>\n",
       "      <td>88</td>\n",
       "      <td>6</td>\n",
       "      <td>4.0</td>\n",
       "      <td>101.27</td>\n",
       "    </tr>\n",
       "    <tr>\n",
       "      <th>2012-01-01 04:00:00</th>\n",
       "      <td>-1.5</td>\n",
       "      <td>-3.3</td>\n",
       "      <td>88</td>\n",
       "      <td>7</td>\n",
       "      <td>4.8</td>\n",
       "      <td>101.23</td>\n",
       "    </tr>\n",
       "  </tbody>\n",
       "</table>\n",
       "</div>"
      ],
      "text/plain": [
       "                     Temp_C  Dew Point Temp_C  Rel Hum_%  Wind Speed_km/h  \\\n",
       "Date/Time                                                                   \n",
       "2012-01-01 00:00:00    -1.8              -3.9         86                4   \n",
       "2012-01-01 01:00:00    -1.8              -3.7         87                4   \n",
       "2012-01-01 02:00:00    -1.8              -3.4         89                7   \n",
       "2012-01-01 03:00:00    -1.5              -3.2         88                6   \n",
       "2012-01-01 04:00:00    -1.5              -3.3         88                7   \n",
       "\n",
       "                     Visibility_km  Press_kPa  \n",
       "Date/Time                                      \n",
       "2012-01-01 00:00:00            8.0     101.24  \n",
       "2012-01-01 01:00:00            8.0     101.24  \n",
       "2012-01-01 02:00:00            4.0     101.26  \n",
       "2012-01-01 03:00:00            4.0     101.27  \n",
       "2012-01-01 04:00:00            4.8     101.23  "
      ]
     },
     "execution_count": 12,
     "metadata": {},
     "output_type": "execute_result"
    }
   ],
   "source": [
    "df.head()"
   ]
  },
  {
   "cell_type": "code",
   "execution_count": 13,
   "id": "8eeab49c",
   "metadata": {},
   "outputs": [],
   "source": [
    "# Select relevant columns and handle missing values if necessary\n",
    "df = df[['Temp_C', 'Dew Point Temp_C', 'Rel Hum_%', 'Wind Speed_km/h', 'Visibility_km', 'Press_kPa']]\n"
   ]
  },
  {
   "cell_type": "markdown",
   "id": "71c092d0",
   "metadata": {},
   "source": [
    "### Standardizing numerical features"
   ]
  },
  {
   "cell_type": "code",
   "execution_count": 14,
   "id": "2aab8ef7",
   "metadata": {},
   "outputs": [],
   "source": [
    "scaler = StandardScaler()\n",
    "scaled_data = scaler.fit_transform(df)"
   ]
  },
  {
   "cell_type": "code",
   "execution_count": 15,
   "id": "83bee2b2",
   "metadata": {
    "scrolled": true
   },
   "outputs": [
    {
     "name": "stdout",
     "output_type": "stream",
     "text": [
      "Temperature Range: -23.3°C to 33.0°C\n"
     ]
    }
   ],
   "source": [
    "min_temp = df['Temp_C'].min()\n",
    "max_temp = df['Temp_C'].max()\n",
    "# Print the range\n",
    "print(f\"Temperature Range: {min_temp}°C to {max_temp}°C\")"
   ]
  },
  {
   "cell_type": "code",
   "execution_count": 16,
   "id": "4af9a989",
   "metadata": {},
   "outputs": [
    {
     "name": "stdout",
     "output_type": "stream",
     "text": [
      "Dew Point Temp_C Range: -28.5°C to 24.4°C\n"
     ]
    }
   ],
   "source": [
    "min_temp = df['Dew Point Temp_C'].min()\n",
    "max_temp = df['Dew Point Temp_C'].max()\n",
    "# Print the range\n",
    "print(f\"Dew Point Temp_C Range: {min_temp}°C to {max_temp}°C\")"
   ]
  },
  {
   "cell_type": "code",
   "execution_count": 23,
   "id": "58f6de42",
   "metadata": {},
   "outputs": [
    {
     "name": "stdout",
     "output_type": "stream",
     "text": [
      "Rel Hum_% Range: 18% to 100%\n"
     ]
    }
   ],
   "source": [
    "min_hum = df['Rel Hum_%'].min()\n",
    "max_hum = df['Rel Hum_%'].max()\n",
    "# Print the range\n",
    "print(f\"Rel Hum_% Range: {min_hum}% to {max_hum}%\")\n"
   ]
  },
  {
   "cell_type": "code",
   "execution_count": 24,
   "id": "ee26f403",
   "metadata": {},
   "outputs": [
    {
     "name": "stdout",
     "output_type": "stream",
     "text": [
      "Wind Speed_km/h Range: 0km/h to 83km/hr\n"
     ]
    }
   ],
   "source": [
    "min_speed = df['Wind Speed_km/h'].min()\n",
    "max_speed = df['Wind Speed_km/h'].max()\n",
    "# Print the range\n",
    "print(f\"Wind Speed_km/h Range: {min_speed}km/h to {max_speed}km/hr\")\n"
   ]
  },
  {
   "cell_type": "code",
   "execution_count": 25,
   "id": "d258a929",
   "metadata": {},
   "outputs": [
    {
     "name": "stdout",
     "output_type": "stream",
     "text": [
      "Visibility_km Range: 0.2km to 48.3km\n"
     ]
    }
   ],
   "source": [
    "min_vis = df['Visibility_km'].min()\n",
    "max_vis = df['Visibility_km'].max()\n",
    "# Print the range\n",
    "print(f\"Visibility_km Range: {min_vis}km to {max_vis}km\")\n"
   ]
  },
  {
   "cell_type": "code",
   "execution_count": 26,
   "id": "ec8fdb24",
   "metadata": {},
   "outputs": [
    {
     "name": "stdout",
     "output_type": "stream",
     "text": [
      "Press_kPa Range: 97.52kPa to 103.65kPa\n"
     ]
    }
   ],
   "source": [
    "min_pre = df['Press_kPa'].min()\n",
    "max_pre = df['Press_kPa'].max()\n",
    "# Print the range\n",
    "print(f\"Press_kPa Range: {min_pre}kPa to {max_pre}kPa\")\n"
   ]
  },
  {
   "cell_type": "markdown",
   "id": "680fd8e8",
   "metadata": {},
   "source": [
    "### Checking for Outliers in Temperature"
   ]
  },
  {
   "cell_type": "code",
   "execution_count": 18,
   "id": "b4a6abc4",
   "metadata": {},
   "outputs": [
    {
     "data": {
      "image/png": "[encoded data removed]",
      "text/plain": [
       "<Figure size 640x480 with 1 Axes>"
      ]
     },
     "metadata": {},
     "output_type": "display_data"
    }
   ],
   "source": [
    "sns.boxplot(x=df['Temp_C'])\n",
    "plt.title('Box Plot for Temperature')\n",
    "plt.show()"
   ]
  },
  {
   "cell_type": "code",
   "execution_count": 19,
   "id": "758e226a",
   "metadata": {},
   "outputs": [],
   "source": [
    "# Prepare features (X) and target (y)\n",
    "features = pd.DataFrame(scaled_data, columns=df.columns)  # Scaled features\n",
    "target = df['Temp_C']  # Target variable"
   ]
  },
  {
   "cell_type": "markdown",
   "id": "036e8232",
   "metadata": {},
   "source": [
    "### Create sequences for time-series forecasting"
   ]
  },
  {
   "cell_type": "code",
   "execution_count": 20,
   "id": "6ebecd1e",
   "metadata": {},
   "outputs": [],
   "source": [
    "window_size = 14  # Define the time window size\n",
    "X, y = create_sequences(features, target, window_size=window_size)\n"
   ]
  },
  {
   "cell_type": "markdown",
   "id": "a1ca4b8d",
   "metadata": {},
   "source": [
    "## 4. Splitting into Train and Test"
   ]
  },
  {
   "cell_type": "code",
   "execution_count": 21,
   "id": "16ec2005",
   "metadata": {},
   "outputs": [],
   "source": [
    "train_size = int(0.8 * len(X))\n",
    "X_train, X_test = X[:train_size], X[train_size:]\n",
    "y_train, y_test = y[:train_size], y[train_size:]"
   ]
  },
  {
   "cell_type": "code",
   "execution_count": 22,
   "id": "3c276ed4",
   "metadata": {},
   "outputs": [],
   "source": [
    "# Convert data to np.float32 for TensorFlow compatibility\n",
    "X_train = np.array(X_train, dtype=np.float32)\n",
    "X_test = np.array(X_test, dtype=np.float32)\n",
    "y_train = np.array(y_train, dtype=np.float32)\n",
    "y_test = np.array(y_test, dtype=np.float32)"
   ]
  },
  {
   "cell_type": "markdown",
   "id": "eca567c3",
   "metadata": {},
   "source": [
    "## 5. Building the Model"
   ]
  },
  {
   "cell_type": "code",
   "execution_count": 24,
   "id": "12f158f3",
   "metadata": {},
   "outputs": [],
   "source": [
    "# Define the CNN-RNN hybrid model\n",
    "model = Sequential()\n",
    "\n",
    "# CNN layers for feature extraction\n",
    "model.add(Conv1D(filters=128, kernel_size=5, activation='relu', padding='causal', dilation_rate=2, input_shape=(X_train.shape[1], X_train.shape[2])))\n",
    "model.add(MaxPooling1D(pool_size=2))\n",
    "model.add(Dropout(0.4))\n",
    "model.add(BatchNormalization())\n",
    "\n",
    "model.add(Conv1D(filters=64, kernel_size=5, activation='relu', padding='causal', dilation_rate=2))\n",
    "\n",
    "model.add(Dropout(0.4))\n",
    "model.add(BatchNormalization())\n",
    "\n",
    "# Additional CNN layer for enhanced feature extraction\n",
    "model.add(Conv1D(filters=32, kernel_size=3, activation='relu', padding='causal', dilation_rate=2))\n",
    "\n",
    "model.add(Dropout(0.4))\n",
    "model.add(BatchNormalization())\n",
    "\n",
    "# RNN layer for sequential dependencies\n",
    "model.add(LSTM(128, return_sequences=False))\n",
    "model.add(Dropout(0.4))\n",
    "\n",
    "# Output layer\n",
    "model.add(Dense(1))"
   ]
  },
  {
   "cell_type": "markdown",
   "id": "91c5babf",
   "metadata": {},
   "source": [
    "### Compiling the Model"
   ]
  },
  {
   "cell_type": "code",
   "execution_count": 25,
   "id": "d6025bc6",
   "metadata": {},
   "outputs": [],
   "source": [
    "# Compile the model\n",
    "model.compile(optimizer='adam', loss='mean_squared_error', metrics=['mae'])\n"
   ]
  },
  {
   "cell_type": "code",
   "execution_count": 26,
   "id": "370ad06d",
   "metadata": {},
   "outputs": [],
   "source": [
    "# Set up early stopping\n",
    "early_stopping = EarlyStopping(monitor='val_loss', patience=20, restore_best_weights=True, min_delta=0.0001, verbose=1)\n"
   ]
  },
  {
   "cell_type": "markdown",
   "id": "c1a7916b",
   "metadata": {},
   "source": [
    "## 6. Training the Model"
   ]
  },
  {
   "cell_type": "code",
   "execution_count": 27,
   "id": "b3655868",
   "metadata": {
    "scrolled": true
   },
   "outputs": [
    {
     "name": "stdout",
     "output_type": "stream",
     "text": [
      "Epoch 1/50\n",
      "\u001b[1m220/220\u001b[0m \u001b[32m━━━━━━━━━━━━━━━━━━━━\u001b[0m\u001b[37m\u001b[0m \u001b[1m4s\u001b[0m 9ms/step - loss: 100.4063 - mae: 7.5658 - val_loss: 16.0657 - val_mae: 3.2308\n",
      "Epoch 2/50\n",
      "\u001b[1m220/220\u001b[0m \u001b[32m━━━━━━━━━━━━━━━━━━━━\u001b[0m\u001b[37m\u001b[0m \u001b[1m2s\u001b[0m 8ms/step - loss: 14.7557 - mae: 3.0227 - val_loss: 7.8113 - val_mae: 2.1590\n",
      "Epoch 3/50\n",
      "\u001b[1m220/220\u001b[0m \u001b[32m━━━━━━━━━━━━━━━━━━━━\u001b[0m\u001b[37m\u001b[0m \u001b[1m2s\u001b[0m 9ms/step - loss: 12.5054 - mae: 2.7863 - val_loss: 5.6538 - val_mae: 1.8485\n",
      "Epoch 4/50\n",
      "\u001b[1m220/220\u001b[0m \u001b[32m━━━━━━━━━━━━━━━━━━━━\u001b[0m\u001b[37m\u001b[0m \u001b[1m2s\u001b[0m 9ms/step - loss: 10.5707 - mae: 2.5443 - val_loss: 6.5667 - val_mae: 2.0001\n",
      "Epoch 5/50\n",
      "\u001b[1m220/220\u001b[0m \u001b[32m━━━━━━━━━━━━━━━━━━━━\u001b[0m\u001b[37m\u001b[0m \u001b[1m2s\u001b[0m 11ms/step - loss: 10.4140 - mae: 2.5472 - val_loss: 5.7994 - val_mae: 1.9047\n",
      "Epoch 6/50\n",
      "\u001b[1m220/220\u001b[0m \u001b[32m━━━━━━━━━━━━━━━━━━━━\u001b[0m\u001b[37m\u001b[0m \u001b[1m3s\u001b[0m 14ms/step - loss: 9.4042 - mae: 2.4343 - val_loss: 5.4637 - val_mae: 1.9116\n",
      "Epoch 7/50\n",
      "\u001b[1m220/220\u001b[0m \u001b[32m━━━━━━━━━━━━━━━━━━━━\u001b[0m\u001b[37m\u001b[0m \u001b[1m2s\u001b[0m 11ms/step - loss: 8.7602 - mae: 2.3168 - val_loss: 4.1122 - val_mae: 1.5030\n",
      "Epoch 8/50\n",
      "\u001b[1m220/220\u001b[0m \u001b[32m━━━━━━━━━━━━━━━━━━━━\u001b[0m\u001b[37m\u001b[0m \u001b[1m2s\u001b[0m 10ms/step - loss: 8.3151 - mae: 2.2750 - val_loss: 9.3382 - val_mae: 2.4968\n",
      "Epoch 9/50\n",
      "\u001b[1m220/220\u001b[0m \u001b[32m━━━━━━━━━━━━━━━━━━━━\u001b[0m\u001b[37m\u001b[0m \u001b[1m3s\u001b[0m 12ms/step - loss: 8.1255 - mae: 2.2505 - val_loss: 4.9242 - val_mae: 1.7777\n",
      "Epoch 10/50\n",
      "\u001b[1m220/220\u001b[0m \u001b[32m━━━━━━━━━━━━━━━━━━━━\u001b[0m\u001b[37m\u001b[0m \u001b[1m3s\u001b[0m 11ms/step - loss: 8.2150 - mae: 2.2421 - val_loss: 4.6243 - val_mae: 1.6958\n",
      "Epoch 11/50\n",
      "\u001b[1m220/220\u001b[0m \u001b[32m━━━━━━━━━━━━━━━━━━━━\u001b[0m\u001b[37m\u001b[0m \u001b[1m2s\u001b[0m 9ms/step - loss: 6.8857 - mae: 2.0652 - val_loss: 4.8031 - val_mae: 1.7745\n",
      "Epoch 12/50\n",
      "\u001b[1m220/220\u001b[0m \u001b[32m━━━━━━━━━━━━━━━━━━━━\u001b[0m\u001b[37m\u001b[0m \u001b[1m2s\u001b[0m 10ms/step - loss: 7.7149 - mae: 2.2047 - val_loss: 3.0983 - val_mae: 1.3855\n",
      "Epoch 13/50\n",
      "\u001b[1m220/220\u001b[0m \u001b[32m━━━━━━━━━━━━━━━━━━━━\u001b[0m\u001b[37m\u001b[0m \u001b[1m2s\u001b[0m 9ms/step - loss: 6.8233 - mae: 2.0587 - val_loss: 4.9990 - val_mae: 1.8177\n",
      "Epoch 14/50\n",
      "\u001b[1m220/220\u001b[0m \u001b[32m━━━━━━━━━━━━━━━━━━━━\u001b[0m\u001b[37m\u001b[0m \u001b[1m2s\u001b[0m 9ms/step - loss: 7.2361 - mae: 2.1218 - val_loss: 3.2413 - val_mae: 1.3783\n",
      "Epoch 15/50\n",
      "\u001b[1m220/220\u001b[0m \u001b[32m━━━━━━━━━━━━━━━━━━━━\u001b[0m\u001b[37m\u001b[0m \u001b[1m2s\u001b[0m 9ms/step - loss: 6.3599 - mae: 1.9729 - val_loss: 3.0857 - val_mae: 1.3735\n",
      "Epoch 16/50\n",
      "\u001b[1m220/220\u001b[0m \u001b[32m━━━━━━━━━━━━━━━━━━━━\u001b[0m\u001b[37m\u001b[0m \u001b[1m2s\u001b[0m 9ms/step - loss: 6.3183 - mae: 1.9855 - val_loss: 2.8363 - val_mae: 1.2901\n",
      "Epoch 17/50\n",
      "\u001b[1m220/220\u001b[0m \u001b[32m━━━━━━━━━━━━━━━━━━━━\u001b[0m\u001b[37m\u001b[0m \u001b[1m2s\u001b[0m 10ms/step - loss: 6.2898 - mae: 1.9801 - val_loss: 4.1364 - val_mae: 1.5791\n",
      "Epoch 18/50\n",
      "\u001b[1m220/220\u001b[0m \u001b[32m━━━━━━━━━━━━━━━━━━━━\u001b[0m\u001b[37m\u001b[0m \u001b[1m2s\u001b[0m 10ms/step - loss: 6.3747 - mae: 1.9824 - val_loss: 3.9861 - val_mae: 1.5773\n",
      "Epoch 19/50\n",
      "\u001b[1m220/220\u001b[0m \u001b[32m━━━━━━━━━━━━━━━━━━━━\u001b[0m\u001b[37m\u001b[0m \u001b[1m3s\u001b[0m 11ms/step - loss: 6.1340 - mae: 1.9229 - val_loss: 5.2704 - val_mae: 1.8515\n",
      "Epoch 20/50\n",
      "\u001b[1m220/220\u001b[0m \u001b[32m━━━━━━━━━━━━━━━━━━━━\u001b[0m\u001b[37m\u001b[0m \u001b[1m2s\u001b[0m 9ms/step - loss: 6.0901 - mae: 1.9263 - val_loss: 2.9927 - val_mae: 1.3129\n",
      "Epoch 21/50\n",
      "\u001b[1m220/220\u001b[0m \u001b[32m━━━━━━━━━━━━━━━━━━━━\u001b[0m\u001b[37m\u001b[0m \u001b[1m2s\u001b[0m 9ms/step - loss: 6.0039 - mae: 1.9309 - val_loss: 2.9643 - val_mae: 1.3540\n",
      "Epoch 22/50\n",
      "\u001b[1m220/220\u001b[0m \u001b[32m━━━━━━━━━━━━━━━━━━━━\u001b[0m\u001b[37m\u001b[0m \u001b[1m2s\u001b[0m 9ms/step - loss: 5.9974 - mae: 1.9275 - val_loss: 3.4656 - val_mae: 1.4597\n",
      "Epoch 23/50\n",
      "\u001b[1m220/220\u001b[0m \u001b[32m━━━━━━━━━━━━━━━━━━━━\u001b[0m\u001b[37m\u001b[0m \u001b[1m3s\u001b[0m 12ms/step - loss: 5.5787 - mae: 1.8509 - val_loss: 2.5706 - val_mae: 1.2649\n",
      "Epoch 24/50\n",
      "\u001b[1m220/220\u001b[0m \u001b[32m━━━━━━━━━━━━━━━━━━━━\u001b[0m\u001b[37m\u001b[0m \u001b[1m2s\u001b[0m 11ms/step - loss: 5.6920 - mae: 1.8892 - val_loss: 4.6168 - val_mae: 1.7718\n",
      "Epoch 25/50\n",
      "\u001b[1m220/220\u001b[0m \u001b[32m━━━━━━━━━━━━━━━━━━━━\u001b[0m\u001b[37m\u001b[0m \u001b[1m2s\u001b[0m 9ms/step - loss: 5.5001 - mae: 1.8426 - val_loss: 3.4655 - val_mae: 1.5023\n",
      "Epoch 26/50\n",
      "\u001b[1m220/220\u001b[0m \u001b[32m━━━━━━━━━━━━━━━━━━━━\u001b[0m\u001b[37m\u001b[0m \u001b[1m2s\u001b[0m 10ms/step - loss: 5.7909 - mae: 1.8944 - val_loss: 3.0113 - val_mae: 1.3509\n",
      "Epoch 27/50\n",
      "\u001b[1m220/220\u001b[0m \u001b[32m━━━━━━━━━━━━━━━━━━━━\u001b[0m\u001b[37m\u001b[0m \u001b[1m2s\u001b[0m 10ms/step - loss: 5.7246 - mae: 1.8890 - val_loss: 4.2693 - val_mae: 1.6948\n",
      "Epoch 28/50\n",
      "\u001b[1m220/220\u001b[0m \u001b[32m━━━━━━━━━━━━━━━━━━━━\u001b[0m\u001b[37m\u001b[0m \u001b[1m2s\u001b[0m 10ms/step - loss: 5.6249 - mae: 1.8626 - val_loss: 2.9035 - val_mae: 1.3035\n",
      "Epoch 29/50\n",
      "\u001b[1m220/220\u001b[0m \u001b[32m━━━━━━━━━━━━━━━━━━━━\u001b[0m\u001b[37m\u001b[0m \u001b[1m2s\u001b[0m 9ms/step - loss: 5.1219 - mae: 1.7722 - val_loss: 3.0704 - val_mae: 1.4121\n",
      "Epoch 30/50\n",
      "\u001b[1m220/220\u001b[0m \u001b[32m━━━━━━━━━━━━━━━━━━━━\u001b[0m\u001b[37m\u001b[0m \u001b[1m3s\u001b[0m 13ms/step - loss: 5.2422 - mae: 1.7946 - val_loss: 2.6275 - val_mae: 1.2399\n",
      "Epoch 31/50\n",
      "\u001b[1m220/220\u001b[0m \u001b[32m━━━━━━━━━━━━━━━━━━━━\u001b[0m\u001b[37m\u001b[0m \u001b[1m2s\u001b[0m 10ms/step - loss: 5.1464 - mae: 1.7662 - val_loss: 3.2040 - val_mae: 1.4559\n",
      "Epoch 32/50\n",
      "\u001b[1m220/220\u001b[0m \u001b[32m━━━━━━━━━━━━━━━━━━━━\u001b[0m\u001b[37m\u001b[0m \u001b[1m2s\u001b[0m 10ms/step - loss: 5.1064 - mae: 1.7698 - val_loss: 2.9949 - val_mae: 1.3705\n",
      "Epoch 33/50\n",
      "\u001b[1m220/220\u001b[0m \u001b[32m━━━━━━━━━━━━━━━━━━━━\u001b[0m\u001b[37m\u001b[0m \u001b[1m2s\u001b[0m 10ms/step - loss: 5.0152 - mae: 1.7359 - val_loss: 3.3459 - val_mae: 1.4289\n",
      "Epoch 34/50\n",
      "\u001b[1m220/220\u001b[0m \u001b[32m━━━━━━━━━━━━━━━━━━━━\u001b[0m\u001b[37m\u001b[0m \u001b[1m2s\u001b[0m 11ms/step - loss: 5.4128 - mae: 1.8185 - val_loss: 2.8665 - val_mae: 1.3554\n",
      "Epoch 35/50\n",
      "\u001b[1m220/220\u001b[0m \u001b[32m━━━━━━━━━━━━━━━━━━━━\u001b[0m\u001b[37m\u001b[0m \u001b[1m2s\u001b[0m 11ms/step - loss: 5.2378 - mae: 1.7836 - val_loss: 3.8930 - val_mae: 1.5681\n",
      "Epoch 36/50\n",
      "\u001b[1m220/220\u001b[0m \u001b[32m━━━━━━━━━━━━━━━━━━━━\u001b[0m\u001b[37m\u001b[0m \u001b[1m2s\u001b[0m 11ms/step - loss: 5.2659 - mae: 1.7786 - val_loss: 5.6239 - val_mae: 1.9652\n",
      "Epoch 37/50\n",
      "\u001b[1m220/220\u001b[0m \u001b[32m━━━━━━━━━━━━━━━━━━━━\u001b[0m\u001b[37m\u001b[0m \u001b[1m2s\u001b[0m 10ms/step - loss: 4.7915 - mae: 1.7168 - val_loss: 3.7666 - val_mae: 1.4831\n",
      "Epoch 38/50\n",
      "\u001b[1m220/220\u001b[0m \u001b[32m━━━━━━━━━━━━━━━━━━━━\u001b[0m\u001b[37m\u001b[0m \u001b[1m2s\u001b[0m 11ms/step - loss: 4.9120 - mae: 1.7328 - val_loss: 3.0231 - val_mae: 1.3954\n",
      "Epoch 39/50\n",
      "\u001b[1m220/220\u001b[0m \u001b[32m━━━━━━━━━━━━━━━━━━━━\u001b[0m\u001b[37m\u001b[0m \u001b[1m2s\u001b[0m 11ms/step - loss: 4.6368 - mae: 1.6727 - val_loss: 3.7083 - val_mae: 1.5578\n",
      "Epoch 40/50\n",
      "\u001b[1m220/220\u001b[0m \u001b[32m━━━━━━━━━━━━━━━━━━━━\u001b[0m\u001b[37m\u001b[0m \u001b[1m2s\u001b[0m 11ms/step - loss: 4.5402 - mae: 1.6783 - val_loss: 2.7840 - val_mae: 1.2968\n",
      "Epoch 41/50\n",
      "\u001b[1m220/220\u001b[0m \u001b[32m━━━━━━━━━━━━━━━━━━━━\u001b[0m\u001b[37m\u001b[0m \u001b[1m2s\u001b[0m 10ms/step - loss: 4.6307 - mae: 1.6846 - val_loss: 3.3649 - val_mae: 1.4600\n",
      "Epoch 42/50\n",
      "\u001b[1m220/220\u001b[0m \u001b[32m━━━━━━━━━━━━━━━━━━━━\u001b[0m\u001b[37m\u001b[0m \u001b[1m2s\u001b[0m 10ms/step - loss: 4.7068 - mae: 1.6966 - val_loss: 3.6546 - val_mae: 1.5449\n",
      "Epoch 43/50\n",
      "\u001b[1m220/220\u001b[0m \u001b[32m━━━━━━━━━━━━━━━━━━━━\u001b[0m\u001b[37m\u001b[0m \u001b[1m2s\u001b[0m 10ms/step - loss: 4.7817 - mae: 1.7197 - val_loss: 2.8368 - val_mae: 1.3070\n",
      "Epoch 43: early stopping\n",
      "Restoring model weights from the end of the best epoch: 23.\n"
     ]
    }
   ],
   "source": [
    "history = model.fit(X_train, y_train, epochs=50, batch_size=32, validation_data=(X_test, y_test), callbacks=[early_stopping])\n"
   ]
  },
  {
   "cell_type": "markdown",
   "id": "0d312ad3",
   "metadata": {},
   "source": [
    "## 7. Model Evaluation"
   ]
  },
  {
   "cell_type": "code",
   "execution_count": 28,
   "id": "5c07fa1c",
   "metadata": {},
   "outputs": [
    {
     "name": "stdout",
     "output_type": "stream",
     "text": [
      "\u001b[1m55/55\u001b[0m \u001b[32m━━━━━━━━━━━━━━━━━━━━\u001b[0m\u001b[37m\u001b[0m \u001b[1m0s\u001b[0m 3ms/step - loss: 2.5097 - mae: 1.2312\n",
      "Test Loss: 2.5706005096435547\n",
      "Test MAE: 1.264944314956665\n"
     ]
    }
   ],
   "source": [
    "# Evaluate the model\n",
    "test_loss, test_mae = model.evaluate(X_test, y_test)\n",
    "print(f\"Test Loss: {test_loss}\")\n",
    "print(f\"Test MAE: {test_mae}\")\n"
   ]
  },
  {
   "cell_type": "markdown",
   "id": "c7647787",
   "metadata": {},
   "source": [
    "### Making Predictions"
   ]
  },
  {
   "cell_type": "code",
   "execution_count": 29,
   "id": "bc62153a",
   "metadata": {
    "scrolled": true
   },
   "outputs": [
    {
     "name": "stdout",
     "output_type": "stream",
     "text": [
      "\u001b[1m55/55\u001b[0m \u001b[32m━━━━━━━━━━━━━━━━━━━━\u001b[0m\u001b[37m\u001b[0m \u001b[1m0s\u001b[0m 6ms/step\n"
     ]
    }
   ],
   "source": [
    "# Make predictions\n",
    "y_pred = model.predict(X_test)"
   ]
  },
  {
   "cell_type": "code",
   "execution_count": 30,
   "id": "ba61fee6",
   "metadata": {
    "scrolled": true
   },
   "outputs": [],
   "source": [
    "# Inverse scaling of predictions\n",
    "y_pred_reshaped = np.zeros((y_pred.shape[0], features.shape[1]))  # Placeholder with the same number of columns as features\n",
    "y_pred_reshaped[:, 0] = y_pred.reshape(-1)  # Put the predicted values in the first column\n",
    "y_pred_original = scaler.inverse_transform(y_pred_reshaped)[:, 0]  # Inverse transform to get the original scale\n",
    "\n",
    "# Inverse scaling of actual test labels\n",
    "y_test_reshaped = np.zeros((y_test.shape[0], features.shape[1]))  # Same for the actual test labels\n",
    "y_test_reshaped[:, 0] = y_test.reshape(-1)\n",
    "y_test_original = scaler.inverse_transform(y_test_reshaped)[:, 0]\n"
   ]
  },
  {
   "cell_type": "markdown",
   "id": "af2c5a7c",
   "metadata": {},
   "source": [
    "## 8. Assessing the model performance using RMSE (Root Mean Squared Error)"
   ]
  },
  {
   "cell_type": "code",
   "execution_count": 31,
   "id": "1c064cb2",
   "metadata": {
    "scrolled": false
   },
   "outputs": [
    {
     "name": "stdout",
     "output_type": "stream",
     "text": [
      "Test RMSE: 18.7382233914037\n"
     ]
    }
   ],
   "source": [
    "rmse = np.sqrt(mean_squared_error(y_test_original, y_pred_original))\n",
    "print(f\"Test RMSE: {rmse}\")"
   ]
  },
  {
   "cell_type": "markdown",
   "id": "6c4ed6a6",
   "metadata": {},
   "source": [
    "## 9.Visualization"
   ]
  },
  {
   "cell_type": "markdown",
   "id": "890e28fe",
   "metadata": {},
   "source": [
    "## Actual vs Predicted using Line Plot"
   ]
  },
  {
   "cell_type": "code",
   "execution_count": 32,
   "id": "2077b1d2",
   "metadata": {
    "scrolled": true
   },
   "outputs": [
    {
     "data": {
      "image/png": "[encoded data removed]",
      "text/plain": [
       "<Figure size 1000x600 with 1 Axes>"
      ]
     },
     "metadata": {},
     "output_type": "display_data"
    }
   ],
   "source": [
    "plt.figure(figsize=(10, 6))\n",
    "plt.plot(y_test_original[:100], label='Actual Values', color='blue')\n",
    "plt.plot(y_pred_original[:100], label='Predicted Values', color='red', linestyle='--')\n",
    "plt.title('Actual vs Predicted Values (Subset of Test Set)')\n",
    "plt.xlabel('Samples')\n",
    "plt.ylabel('Temperature')\n",
    "plt.grid()\n",
    "plt.legend()\n",
    "plt.show()"
   ]
  },
  {
   "cell_type": "markdown",
   "id": "3dd5d677",
   "metadata": {},
   "source": [
    "## Training & Validation Loss using Line Plot"
   ]
  },
  {
   "cell_type": "code",
   "execution_count": null,
   "id": "cdd3f58a",
   "metadata": {},
   "outputs": [],
   "source": [
    "plt.plot(history.history['loss'], label='Training Loss')\n",
    "plt.plot(history.history['val_loss'], label='Validation Loss')\n",
    "plt.title('Training vs Validation Loss')\n",
    "plt.xlabel('Epochs')\n",
    "plt.ylabel('Loss')\n",
    "plt.legend()\n",
    "plt.grid()\n",
    "plt.show()\n"
   ]
  },
  {
   "cell_type": "markdown",
   "id": "ce081a2e",
   "metadata": {},
   "source": [
    "### Saving the Preprocessed Dataset"
   ]
  },
  {
   "cell_type": "code",
   "execution_count": 212,
   "id": "3168dd7c",
   "metadata": {},
   "outputs": [
    {
     "name": "stdout",
     "output_type": "stream",
     "text": [
      "Dataset saved as 'preprocessed_dataset.csv'\n"
     ]
    }
   ],
   "source": [
    "df.to_csv('preprocessed_dataset.csv', index=False)\n",
    "\n",
    "print(\"Dataset saved as 'preprocessed_dataset.csv'\")"
   ]
  },
  {
   "cell_type": "code",
   "execution_count": null,
   "id": "21049475",
   "metadata": {},
   "outputs": [],
   "source": []
  }
 ],
 "metadata": {
  "kernelspec": {
   "display_name": "Python 3 (ipykernel)",
   "language": "python",
   "name": "python3"
  },
  "language_info": {
   "codemirror_mode": {
    "name": "ipython",
    "version": 3
   },
   "file_extension": ".py",
   "mimetype": "text/x-python",
   "name": "python",
   "nbconvert_exporter": "python",
   "pygments_lexer": "ipython3",
   "version": "3.11.7"
  }
 },
 "nbformat": 4,
 "nbformat_minor": 5
}
